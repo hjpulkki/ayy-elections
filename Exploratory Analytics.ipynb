{
 "cells": [
  {
   "cell_type": "markdown",
   "metadata": {},
   "source": [
    "# Load and clean the data"
   ]
  },
  {
   "cell_type": "code",
   "execution_count": 13,
   "metadata": {},
   "outputs": [],
   "source": [
    "import pandas as pd\n",
    "import matplotlib.pyplot as plt\n",
    "import numpy as np\n",
    "%matplotlib inline\n",
    "\n",
    "filename = 'Answers data - 2017-10-27T07_38_48.xlsx'\n",
    "with open(filename, 'rb') as file:\n",
    "    answers = pd.read_excel(file)\n",
    "    \n",
    "filename = 'Candidate data - 2017-10-27T07_25_36.xlsx'\n",
    "with open(filename, 'rb') as file:\n",
    "    candidates = pd.read_excel(file)"
   ]
  },
  {
   "cell_type": "code",
   "execution_count": 2,
   "metadata": {},
   "outputs": [],
   "source": [
    "# Skip garbage in the end\n",
    "answers = answers.head(976)"
   ]
  },
  {
   "cell_type": "code",
   "execution_count": 3,
   "metadata": {},
   "outputs": [
    {
     "name": "stdout",
     "output_type": "stream",
     "text": [
      "[26, 29, 32, 41, 44, 47, 51, 53, 55, 57, 59, 63, 67]\n"
     ]
    }
   ],
   "source": [
    "numeric_columns = []\n",
    "\n",
    "for i, value in enumerate(candidates.head(1).values[0]):\n",
    "    if type(value)==float and value > 0:\n",
    "        numeric_columns.append(i)\n",
    "print(numeric_columns)"
   ]
  },
  {
   "cell_type": "code",
   "execution_count": 4,
   "metadata": {},
   "outputs": [
    {
     "name": "stdout",
     "output_type": "stream",
     "text": [
      "3. Yliopistoni tulisi tehdä yhteistyötä alueen korkeakoulujen kanssa lakkauttamalla päällekkäisiä koulutusohjelmia.\n",
      "4. Tulevaisuudessa yhä useamman opiskelijan pitäisi siirtyä työelämään pelkällä kandidaatin tutkinnolla.\n",
      "5. Suomessa on lukumäärällisesti liian monta yliopistoa.\n",
      "8. Ylioppilaskuntani antaa tarpeeksi osallistumismahdollisuuksia kansainvälisille opiskelijoille.\n",
      "9. Ylioppilaskunta voi ottaa kantaa muihinkin asioihin kuin suoraan koulutukseen, yliopistoihin ja opintososiaalisiin asioihin (opintotuki, asuminen, yms.) liittyviin kysymyksiin.\n",
      "10. Ylioppilaskuntien automaatiojäsenyys tulee säilyttää.\n",
      "12. Ylioppilaskunnan jäsenmaksua tulisi\n",
      "13. Edustajiston jäsenen tulee noudattaa edustajistoryhmän kantaa merkittävissä kysymyksissä. \n",
      "14. AYY:n asuntojen vuokria tulisi korottaa, jotta niiden laatua voitaisiin parantaa. \n",
      "15. AYY:n tulee kannustaa taloudellisin keinoin (yhdistysavustukset) yhdistyksiä kehittämään toimintaansa niin, että yhdistyksessä voi olla mukana, vaikka ei osaisi suomea tai ruotsia. \n",
      "16. Ylioppilaskunnan tulisi kompensoida EU ja ETA –alueen ulkopuolisten opiskelijoiden lukukausimaksuja lisävuodella asumisaikaan.\n",
      "18. AYY:n sääntöjen mukaan ylioppilaskunnan hallitukseen on valittava vähintään yksi henkilö tekniikan, kauppatieteiden ja taideteollisen alalta. Mielestäni nämä kiintiöpaikat tulisi poistaa. \n",
      "20. Ylioppilaskunnan tulisi vastustaa yliopiston jakamia taloudellisia kannustimia suorittaa 55 opintopistettä lukuvuodessa.\n"
     ]
    }
   ],
   "source": [
    "numeric_questions = candidates.columns[numeric_columns].values\n",
    "for question in numeric_questions:\n",
    "    print(question)"
   ]
  },
  {
   "cell_type": "code",
   "execution_count": 5,
   "metadata": {},
   "outputs": [
    {
     "data": {
      "text/html": [
       "<div>\n",
       "<style>\n",
       "    .dataframe thead tr:only-child th {\n",
       "        text-align: right;\n",
       "    }\n",
       "\n",
       "    .dataframe thead th {\n",
       "        text-align: left;\n",
       "    }\n",
       "\n",
       "    .dataframe tbody tr th {\n",
       "        vertical-align: top;\n",
       "    }\n",
       "</style>\n",
       "<table border=\"1\" class=\"dataframe\">\n",
       "  <thead>\n",
       "    <tr style=\"text-align: right;\">\n",
       "      <th></th>\n",
       "      <th>3. Yliopistoni tulisi tehdä yhteistyötä alueen korkeakoulujen kanssa lakkauttamalla päällekkäisiä koulutusohjelmia.</th>\n",
       "      <th>4. Tulevaisuudessa yhä useamman opiskelijan pitäisi siirtyä työelämään pelkällä kandidaatin tutkinnolla.</th>\n",
       "      <th>5. Suomessa on lukumäärällisesti liian monta yliopistoa.</th>\n",
       "      <th>8. Ylioppilaskuntani antaa tarpeeksi osallistumismahdollisuuksia kansainvälisille opiskelijoille.</th>\n",
       "      <th>9. Ylioppilaskunta voi ottaa kantaa muihinkin asioihin kuin suoraan koulutukseen, yliopistoihin ja opintososiaalisiin asioihin (opintotuki, asuminen, yms.) liittyviin kysymyksiin.</th>\n",
       "      <th>10. Ylioppilaskuntien automaatiojäsenyys tulee säilyttää.</th>\n",
       "      <th>12. Ylioppilaskunnan jäsenmaksua tulisi</th>\n",
       "      <th>13. Edustajiston jäsenen tulee noudattaa edustajistoryhmän kantaa merkittävissä kysymyksissä.</th>\n",
       "      <th>14. AYY:n asuntojen vuokria tulisi korottaa, jotta niiden laatua voitaisiin parantaa.</th>\n",
       "      <th>15. AYY:n tulee kannustaa taloudellisin keinoin (yhdistysavustukset) yhdistyksiä kehittämään toimintaansa niin, että yhdistyksessä voi olla mukana, vaikka ei osaisi suomea tai ruotsia.</th>\n",
       "      <th>16. Ylioppilaskunnan tulisi kompensoida EU ja ETA –alueen ulkopuolisten opiskelijoiden lukukausimaksuja lisävuodella asumisaikaan.</th>\n",
       "      <th>18. AYY:n sääntöjen mukaan ylioppilaskunnan hallitukseen on valittava vähintään yksi henkilö tekniikan, kauppatieteiden ja taideteollisen alalta. Mielestäni nämä kiintiöpaikat tulisi poistaa.</th>\n",
       "      <th>20. Ylioppilaskunnan tulisi vastustaa yliopiston jakamia taloudellisia kannustimia suorittaa 55 opintopistettä lukuvuodessa.</th>\n",
       "    </tr>\n",
       "  </thead>\n",
       "  <tbody>\n",
       "    <tr>\n",
       "      <th>count</th>\n",
       "      <td>215.000000</td>\n",
       "      <td>216.000000</td>\n",
       "      <td>213.000000</td>\n",
       "      <td>214.000000</td>\n",
       "      <td>215.000000</td>\n",
       "      <td>217.000000</td>\n",
       "      <td>215.000000</td>\n",
       "      <td>216.000000</td>\n",
       "      <td>215.000000</td>\n",
       "      <td>217.000000</td>\n",
       "      <td>217.000000</td>\n",
       "      <td>217.000000</td>\n",
       "      <td>216.000000</td>\n",
       "    </tr>\n",
       "    <tr>\n",
       "      <th>mean</th>\n",
       "      <td>36.860465</td>\n",
       "      <td>33.421296</td>\n",
       "      <td>42.633803</td>\n",
       "      <td>56.906542</td>\n",
       "      <td>49.758140</td>\n",
       "      <td>65.525346</td>\n",
       "      <td>2.497674</td>\n",
       "      <td>3.074074</td>\n",
       "      <td>2.525581</td>\n",
       "      <td>3.460829</td>\n",
       "      <td>2.050691</td>\n",
       "      <td>2.815668</td>\n",
       "      <td>3.166667</td>\n",
       "    </tr>\n",
       "    <tr>\n",
       "      <th>std</th>\n",
       "      <td>24.899406</td>\n",
       "      <td>26.514644</td>\n",
       "      <td>24.977295</td>\n",
       "      <td>21.855708</td>\n",
       "      <td>33.028551</td>\n",
       "      <td>30.484370</td>\n",
       "      <td>0.668898</td>\n",
       "      <td>1.101405</td>\n",
       "      <td>0.956066</td>\n",
       "      <td>1.067007</td>\n",
       "      <td>1.089602</td>\n",
       "      <td>1.587898</td>\n",
       "      <td>1.394341</td>\n",
       "    </tr>\n",
       "    <tr>\n",
       "      <th>min</th>\n",
       "      <td>0.000000</td>\n",
       "      <td>0.000000</td>\n",
       "      <td>0.000000</td>\n",
       "      <td>7.000000</td>\n",
       "      <td>0.000000</td>\n",
       "      <td>0.000000</td>\n",
       "      <td>1.000000</td>\n",
       "      <td>1.000000</td>\n",
       "      <td>1.000000</td>\n",
       "      <td>1.000000</td>\n",
       "      <td>1.000000</td>\n",
       "      <td>1.000000</td>\n",
       "      <td>1.000000</td>\n",
       "    </tr>\n",
       "    <tr>\n",
       "      <th>25%</th>\n",
       "      <td>21.000000</td>\n",
       "      <td>14.750000</td>\n",
       "      <td>25.000000</td>\n",
       "      <td>37.250000</td>\n",
       "      <td>18.000000</td>\n",
       "      <td>46.000000</td>\n",
       "      <td>2.000000</td>\n",
       "      <td>2.000000</td>\n",
       "      <td>2.000000</td>\n",
       "      <td>3.000000</td>\n",
       "      <td>1.000000</td>\n",
       "      <td>1.000000</td>\n",
       "      <td>2.000000</td>\n",
       "    </tr>\n",
       "    <tr>\n",
       "      <th>50%</th>\n",
       "      <td>31.000000</td>\n",
       "      <td>26.000000</td>\n",
       "      <td>38.000000</td>\n",
       "      <td>60.500000</td>\n",
       "      <td>58.000000</td>\n",
       "      <td>76.000000</td>\n",
       "      <td>3.000000</td>\n",
       "      <td>3.000000</td>\n",
       "      <td>2.000000</td>\n",
       "      <td>4.000000</td>\n",
       "      <td>2.000000</td>\n",
       "      <td>2.000000</td>\n",
       "      <td>3.000000</td>\n",
       "    </tr>\n",
       "    <tr>\n",
       "      <th>75%</th>\n",
       "      <td>51.500000</td>\n",
       "      <td>50.000000</td>\n",
       "      <td>61.000000</td>\n",
       "      <td>73.000000</td>\n",
       "      <td>80.000000</td>\n",
       "      <td>89.000000</td>\n",
       "      <td>3.000000</td>\n",
       "      <td>4.000000</td>\n",
       "      <td>3.000000</td>\n",
       "      <td>4.000000</td>\n",
       "      <td>3.000000</td>\n",
       "      <td>4.000000</td>\n",
       "      <td>4.000000</td>\n",
       "    </tr>\n",
       "    <tr>\n",
       "      <th>max</th>\n",
       "      <td>100.000000</td>\n",
       "      <td>100.000000</td>\n",
       "      <td>100.000000</td>\n",
       "      <td>100.000000</td>\n",
       "      <td>100.000000</td>\n",
       "      <td>100.000000</td>\n",
       "      <td>4.000000</td>\n",
       "      <td>5.000000</td>\n",
       "      <td>5.000000</td>\n",
       "      <td>5.000000</td>\n",
       "      <td>5.000000</td>\n",
       "      <td>5.000000</td>\n",
       "      <td>5.000000</td>\n",
       "    </tr>\n",
       "  </tbody>\n",
       "</table>\n",
       "</div>"
      ],
      "text/plain": [
       "       3. Yliopistoni tulisi tehdä yhteistyötä alueen korkeakoulujen kanssa lakkauttamalla päällekkäisiä koulutusohjelmia.  \\\n",
       "count                                         215.000000                                                                     \n",
       "mean                                           36.860465                                                                     \n",
       "std                                            24.899406                                                                     \n",
       "min                                             0.000000                                                                     \n",
       "25%                                            21.000000                                                                     \n",
       "50%                                            31.000000                                                                     \n",
       "75%                                            51.500000                                                                     \n",
       "max                                           100.000000                                                                     \n",
       "\n",
       "       4. Tulevaisuudessa yhä useamman opiskelijan pitäisi siirtyä työelämään pelkällä kandidaatin tutkinnolla.  \\\n",
       "count                                         216.000000                                                          \n",
       "mean                                           33.421296                                                          \n",
       "std                                            26.514644                                                          \n",
       "min                                             0.000000                                                          \n",
       "25%                                            14.750000                                                          \n",
       "50%                                            26.000000                                                          \n",
       "75%                                            50.000000                                                          \n",
       "max                                           100.000000                                                          \n",
       "\n",
       "       5. Suomessa on lukumäärällisesti liian monta yliopistoa.  \\\n",
       "count                                         213.000000          \n",
       "mean                                           42.633803          \n",
       "std                                            24.977295          \n",
       "min                                             0.000000          \n",
       "25%                                            25.000000          \n",
       "50%                                            38.000000          \n",
       "75%                                            61.000000          \n",
       "max                                           100.000000          \n",
       "\n",
       "       8. Ylioppilaskuntani antaa tarpeeksi osallistumismahdollisuuksia kansainvälisille opiskelijoille.  \\\n",
       "count                                         214.000000                                                   \n",
       "mean                                           56.906542                                                   \n",
       "std                                            21.855708                                                   \n",
       "min                                             7.000000                                                   \n",
       "25%                                            37.250000                                                   \n",
       "50%                                            60.500000                                                   \n",
       "75%                                            73.000000                                                   \n",
       "max                                           100.000000                                                   \n",
       "\n",
       "       9. Ylioppilaskunta voi ottaa kantaa muihinkin asioihin kuin suoraan koulutukseen, yliopistoihin ja opintososiaalisiin asioihin (opintotuki, asuminen, yms.) liittyviin kysymyksiin.  \\\n",
       "count                                         215.000000                                                                                                                                     \n",
       "mean                                           49.758140                                                                                                                                     \n",
       "std                                            33.028551                                                                                                                                     \n",
       "min                                             0.000000                                                                                                                                     \n",
       "25%                                            18.000000                                                                                                                                     \n",
       "50%                                            58.000000                                                                                                                                     \n",
       "75%                                            80.000000                                                                                                                                     \n",
       "max                                           100.000000                                                                                                                                     \n",
       "\n",
       "       10. Ylioppilaskuntien automaatiojäsenyys tulee säilyttää.  \\\n",
       "count                                         217.000000           \n",
       "mean                                           65.525346           \n",
       "std                                            30.484370           \n",
       "min                                             0.000000           \n",
       "25%                                            46.000000           \n",
       "50%                                            76.000000           \n",
       "75%                                            89.000000           \n",
       "max                                           100.000000           \n",
       "\n",
       "       12. Ylioppilaskunnan jäsenmaksua tulisi  \\\n",
       "count                               215.000000   \n",
       "mean                                  2.497674   \n",
       "std                                   0.668898   \n",
       "min                                   1.000000   \n",
       "25%                                   2.000000   \n",
       "50%                                   3.000000   \n",
       "75%                                   3.000000   \n",
       "max                                   4.000000   \n",
       "\n",
       "       13. Edustajiston jäsenen tulee noudattaa edustajistoryhmän kantaa merkittävissä kysymyksissä.   \\\n",
       "count                                         216.000000                                                \n",
       "mean                                            3.074074                                                \n",
       "std                                             1.101405                                                \n",
       "min                                             1.000000                                                \n",
       "25%                                             2.000000                                                \n",
       "50%                                             3.000000                                                \n",
       "75%                                             4.000000                                                \n",
       "max                                             5.000000                                                \n",
       "\n",
       "       14. AYY:n asuntojen vuokria tulisi korottaa, jotta niiden laatua voitaisiin parantaa.   \\\n",
       "count                                         215.000000                                        \n",
       "mean                                            2.525581                                        \n",
       "std                                             0.956066                                        \n",
       "min                                             1.000000                                        \n",
       "25%                                             2.000000                                        \n",
       "50%                                             2.000000                                        \n",
       "75%                                             3.000000                                        \n",
       "max                                             5.000000                                        \n",
       "\n",
       "       15. AYY:n tulee kannustaa taloudellisin keinoin (yhdistysavustukset) yhdistyksiä kehittämään toimintaansa niin, että yhdistyksessä voi olla mukana, vaikka ei osaisi suomea tai ruotsia.   \\\n",
       "count                                         217.000000                                                                                                                                           \n",
       "mean                                            3.460829                                                                                                                                           \n",
       "std                                             1.067007                                                                                                                                           \n",
       "min                                             1.000000                                                                                                                                           \n",
       "25%                                             3.000000                                                                                                                                           \n",
       "50%                                             4.000000                                                                                                                                           \n",
       "75%                                             4.000000                                                                                                                                           \n",
       "max                                             5.000000                                                                                                                                           \n",
       "\n",
       "       16. Ylioppilaskunnan tulisi kompensoida EU ja ETA –alueen ulkopuolisten opiskelijoiden lukukausimaksuja lisävuodella asumisaikaan.  \\\n",
       "count                                         217.000000                                                                                    \n",
       "mean                                            2.050691                                                                                    \n",
       "std                                             1.089602                                                                                    \n",
       "min                                             1.000000                                                                                    \n",
       "25%                                             1.000000                                                                                    \n",
       "50%                                             2.000000                                                                                    \n",
       "75%                                             3.000000                                                                                    \n",
       "max                                             5.000000                                                                                    \n",
       "\n",
       "       18. AYY:n sääntöjen mukaan ylioppilaskunnan hallitukseen on valittava vähintään yksi henkilö tekniikan, kauppatieteiden ja taideteollisen alalta. Mielestäni nämä kiintiöpaikat tulisi poistaa.   \\\n",
       "count                                         217.000000                                                                                                                                                  \n",
       "mean                                            2.815668                                                                                                                                                  \n",
       "std                                             1.587898                                                                                                                                                  \n",
       "min                                             1.000000                                                                                                                                                  \n",
       "25%                                             1.000000                                                                                                                                                  \n",
       "50%                                             2.000000                                                                                                                                                  \n",
       "75%                                             4.000000                                                                                                                                                  \n",
       "max                                             5.000000                                                                                                                                                  \n",
       "\n",
       "       20. Ylioppilaskunnan tulisi vastustaa yliopiston jakamia taloudellisia kannustimia suorittaa 55 opintopistettä lukuvuodessa.  \n",
       "count                                         216.000000                                                                             \n",
       "mean                                            3.166667                                                                             \n",
       "std                                             1.394341                                                                             \n",
       "min                                             1.000000                                                                             \n",
       "25%                                             2.000000                                                                             \n",
       "50%                                             3.000000                                                                             \n",
       "75%                                             4.000000                                                                             \n",
       "max                                             5.000000                                                                             "
      ]
     },
     "execution_count": 5,
     "metadata": {},
     "output_type": "execute_result"
    }
   ],
   "source": [
    "candidates[numeric_questions].describe()"
   ]
  },
  {
   "cell_type": "code",
   "execution_count": 6,
   "metadata": {},
   "outputs": [
    {
     "data": {
      "text/html": [
       "<div>\n",
       "<style>\n",
       "    .dataframe thead tr:only-child th {\n",
       "        text-align: right;\n",
       "    }\n",
       "\n",
       "    .dataframe thead th {\n",
       "        text-align: left;\n",
       "    }\n",
       "\n",
       "    .dataframe tbody tr th {\n",
       "        vertical-align: top;\n",
       "    }\n",
       "</style>\n",
       "<table border=\"1\" class=\"dataframe\">\n",
       "  <thead>\n",
       "    <tr style=\"text-align: right;\">\n",
       "      <th></th>\n",
       "      <th>3. Yliopistoni tulisi tehdä yhteistyötä alueen korkeakoulujen kanssa lakkauttamalla päällekkäisiä koulutusohjelmia.</th>\n",
       "      <th>4. Tulevaisuudessa yhä useamman opiskelijan pitäisi siirtyä työelämään pelkällä kandidaatin tutkinnolla.</th>\n",
       "      <th>5. Suomessa on lukumäärällisesti liian monta yliopistoa.</th>\n",
       "      <th>8. Ylioppilaskuntani antaa tarpeeksi osallistumismahdollisuuksia kansainvälisille opiskelijoille.</th>\n",
       "      <th>9. Ylioppilaskunta voi ottaa kantaa muihinkin asioihin kuin suoraan koulutukseen, yliopistoihin ja opintososiaalisiin asioihin (opintotuki, asuminen, yms.) liittyviin kysymyksiin.</th>\n",
       "      <th>10. Ylioppilaskuntien automaatiojäsenyys tulee säilyttää.</th>\n",
       "      <th>12. Ylioppilaskunnan jäsenmaksua tulisi</th>\n",
       "      <th>13. Edustajiston jäsenen tulee noudattaa edustajistoryhmän kantaa merkittävissä kysymyksissä.</th>\n",
       "      <th>14. AYY:n asuntojen vuokria tulisi korottaa, jotta niiden laatua voitaisiin parantaa.</th>\n",
       "      <th>15. AYY:n tulee kannustaa taloudellisin keinoin (yhdistysavustukset) yhdistyksiä kehittämään toimintaansa niin, että yhdistyksessä voi olla mukana, vaikka ei osaisi suomea tai ruotsia.</th>\n",
       "      <th>16. Ylioppilaskunnan tulisi kompensoida EU ja ETA –alueen ulkopuolisten opiskelijoiden lukukausimaksuja lisävuodella asumisaikaan.</th>\n",
       "      <th>18. AYY:n sääntöjen mukaan ylioppilaskunnan hallitukseen on valittava vähintään yksi henkilö tekniikan, kauppatieteiden ja taideteollisen alalta. Mielestäni nämä kiintiöpaikat tulisi poistaa.</th>\n",
       "      <th>20. Ylioppilaskunnan tulisi vastustaa yliopiston jakamia taloudellisia kannustimia suorittaa 55 opintopistettä lukuvuodessa.</th>\n",
       "    </tr>\n",
       "  </thead>\n",
       "  <tbody>\n",
       "    <tr>\n",
       "      <th>0</th>\n",
       "      <td>35.0</td>\n",
       "      <td>63.0</td>\n",
       "      <td>38.0</td>\n",
       "      <td>65.0</td>\n",
       "      <td>75.0</td>\n",
       "      <td>86.0</td>\n",
       "      <td>3.0</td>\n",
       "      <td>3.0</td>\n",
       "      <td>3.0</td>\n",
       "      <td>4.0</td>\n",
       "      <td>4.0</td>\n",
       "      <td>1.0</td>\n",
       "      <td>3.0</td>\n",
       "    </tr>\n",
       "    <tr>\n",
       "      <th>2</th>\n",
       "      <td>48.0</td>\n",
       "      <td>100.0</td>\n",
       "      <td>35.0</td>\n",
       "      <td>99.0</td>\n",
       "      <td>4.0</td>\n",
       "      <td>50.0</td>\n",
       "      <td>3.0</td>\n",
       "      <td>1.0</td>\n",
       "      <td>4.0</td>\n",
       "      <td>4.0</td>\n",
       "      <td>1.0</td>\n",
       "      <td>2.0</td>\n",
       "      <td>1.0</td>\n",
       "    </tr>\n",
       "    <tr>\n",
       "      <th>3</th>\n",
       "      <td>49.0</td>\n",
       "      <td>48.0</td>\n",
       "      <td>65.0</td>\n",
       "      <td>42.0</td>\n",
       "      <td>23.0</td>\n",
       "      <td>64.0</td>\n",
       "      <td>3.0</td>\n",
       "      <td>2.0</td>\n",
       "      <td>2.0</td>\n",
       "      <td>3.0</td>\n",
       "      <td>3.0</td>\n",
       "      <td>1.0</td>\n",
       "      <td>3.0</td>\n",
       "    </tr>\n",
       "    <tr>\n",
       "      <th>6</th>\n",
       "      <td>26.0</td>\n",
       "      <td>0.0</td>\n",
       "      <td>0.0</td>\n",
       "      <td>68.0</td>\n",
       "      <td>80.0</td>\n",
       "      <td>81.0</td>\n",
       "      <td>3.0</td>\n",
       "      <td>2.0</td>\n",
       "      <td>1.0</td>\n",
       "      <td>2.0</td>\n",
       "      <td>2.0</td>\n",
       "      <td>1.0</td>\n",
       "      <td>2.0</td>\n",
       "    </tr>\n",
       "    <tr>\n",
       "      <th>7</th>\n",
       "      <td>16.0</td>\n",
       "      <td>8.0</td>\n",
       "      <td>35.0</td>\n",
       "      <td>77.0</td>\n",
       "      <td>88.0</td>\n",
       "      <td>86.0</td>\n",
       "      <td>2.0</td>\n",
       "      <td>3.0</td>\n",
       "      <td>3.0</td>\n",
       "      <td>4.0</td>\n",
       "      <td>1.0</td>\n",
       "      <td>3.0</td>\n",
       "      <td>3.0</td>\n",
       "    </tr>\n",
       "  </tbody>\n",
       "</table>\n",
       "</div>"
      ],
      "text/plain": [
       "   3. Yliopistoni tulisi tehdä yhteistyötä alueen korkeakoulujen kanssa lakkauttamalla päällekkäisiä koulutusohjelmia.  \\\n",
       "0                                               35.0                                                                     \n",
       "2                                               48.0                                                                     \n",
       "3                                               49.0                                                                     \n",
       "6                                               26.0                                                                     \n",
       "7                                               16.0                                                                     \n",
       "\n",
       "   4. Tulevaisuudessa yhä useamman opiskelijan pitäisi siirtyä työelämään pelkällä kandidaatin tutkinnolla.  \\\n",
       "0                                               63.0                                                          \n",
       "2                                              100.0                                                          \n",
       "3                                               48.0                                                          \n",
       "6                                                0.0                                                          \n",
       "7                                                8.0                                                          \n",
       "\n",
       "   5. Suomessa on lukumäärällisesti liian monta yliopistoa.  \\\n",
       "0                                               38.0          \n",
       "2                                               35.0          \n",
       "3                                               65.0          \n",
       "6                                                0.0          \n",
       "7                                               35.0          \n",
       "\n",
       "   8. Ylioppilaskuntani antaa tarpeeksi osallistumismahdollisuuksia kansainvälisille opiskelijoille.  \\\n",
       "0                                               65.0                                                   \n",
       "2                                               99.0                                                   \n",
       "3                                               42.0                                                   \n",
       "6                                               68.0                                                   \n",
       "7                                               77.0                                                   \n",
       "\n",
       "   9. Ylioppilaskunta voi ottaa kantaa muihinkin asioihin kuin suoraan koulutukseen, yliopistoihin ja opintososiaalisiin asioihin (opintotuki, asuminen, yms.) liittyviin kysymyksiin.  \\\n",
       "0                                               75.0                                                                                                                                     \n",
       "2                                                4.0                                                                                                                                     \n",
       "3                                               23.0                                                                                                                                     \n",
       "6                                               80.0                                                                                                                                     \n",
       "7                                               88.0                                                                                                                                     \n",
       "\n",
       "   10. Ylioppilaskuntien automaatiojäsenyys tulee säilyttää.  \\\n",
       "0                                               86.0           \n",
       "2                                               50.0           \n",
       "3                                               64.0           \n",
       "6                                               81.0           \n",
       "7                                               86.0           \n",
       "\n",
       "   12. Ylioppilaskunnan jäsenmaksua tulisi  \\\n",
       "0                                      3.0   \n",
       "2                                      3.0   \n",
       "3                                      3.0   \n",
       "6                                      3.0   \n",
       "7                                      2.0   \n",
       "\n",
       "   13. Edustajiston jäsenen tulee noudattaa edustajistoryhmän kantaa merkittävissä kysymyksissä.   \\\n",
       "0                                                3.0                                                \n",
       "2                                                1.0                                                \n",
       "3                                                2.0                                                \n",
       "6                                                2.0                                                \n",
       "7                                                3.0                                                \n",
       "\n",
       "   14. AYY:n asuntojen vuokria tulisi korottaa, jotta niiden laatua voitaisiin parantaa.   \\\n",
       "0                                                3.0                                        \n",
       "2                                                4.0                                        \n",
       "3                                                2.0                                        \n",
       "6                                                1.0                                        \n",
       "7                                                3.0                                        \n",
       "\n",
       "   15. AYY:n tulee kannustaa taloudellisin keinoin (yhdistysavustukset) yhdistyksiä kehittämään toimintaansa niin, että yhdistyksessä voi olla mukana, vaikka ei osaisi suomea tai ruotsia.   \\\n",
       "0                                                4.0                                                                                                                                           \n",
       "2                                                4.0                                                                                                                                           \n",
       "3                                                3.0                                                                                                                                           \n",
       "6                                                2.0                                                                                                                                           \n",
       "7                                                4.0                                                                                                                                           \n",
       "\n",
       "   16. Ylioppilaskunnan tulisi kompensoida EU ja ETA –alueen ulkopuolisten opiskelijoiden lukukausimaksuja lisävuodella asumisaikaan.  \\\n",
       "0                                                4.0                                                                                    \n",
       "2                                                1.0                                                                                    \n",
       "3                                                3.0                                                                                    \n",
       "6                                                2.0                                                                                    \n",
       "7                                                1.0                                                                                    \n",
       "\n",
       "   18. AYY:n sääntöjen mukaan ylioppilaskunnan hallitukseen on valittava vähintään yksi henkilö tekniikan, kauppatieteiden ja taideteollisen alalta. Mielestäni nämä kiintiöpaikat tulisi poistaa.   \\\n",
       "0                                                1.0                                                                                                                                                  \n",
       "2                                                2.0                                                                                                                                                  \n",
       "3                                                1.0                                                                                                                                                  \n",
       "6                                                1.0                                                                                                                                                  \n",
       "7                                                3.0                                                                                                                                                  \n",
       "\n",
       "   20. Ylioppilaskunnan tulisi vastustaa yliopiston jakamia taloudellisia kannustimia suorittaa 55 opintopistettä lukuvuodessa.  \n",
       "0                                                3.0                                                                             \n",
       "2                                                1.0                                                                             \n",
       "3                                                3.0                                                                             \n",
       "6                                                2.0                                                                             \n",
       "7                                                3.0                                                                             "
      ]
     },
     "execution_count": 6,
     "metadata": {},
     "output_type": "execute_result"
    }
   ],
   "source": [
    "# Filter out NaN\n",
    "filt = candidates[numeric_questions].isnull().sum(axis=1) == 0\n",
    "numeric_data = candidates[numeric_questions][filt]\n",
    "numeric_data.head(5)"
   ]
  },
  {
   "cell_type": "code",
   "execution_count": 7,
   "metadata": {},
   "outputs": [
    {
     "data": {
      "text/html": [
       "<div>\n",
       "<style>\n",
       "    .dataframe thead tr:only-child th {\n",
       "        text-align: right;\n",
       "    }\n",
       "\n",
       "    .dataframe thead th {\n",
       "        text-align: left;\n",
       "    }\n",
       "\n",
       "    .dataframe tbody tr th {\n",
       "        vertical-align: top;\n",
       "    }\n",
       "</style>\n",
       "<table border=\"1\" class=\"dataframe\">\n",
       "  <thead>\n",
       "    <tr style=\"text-align: right;\">\n",
       "      <th></th>\n",
       "      <th>3. Yliopistoni tulisi tehdä yhteistyötä alueen korkeakoulujen kanssa lakkauttamalla päällekkäisiä koulutusohjelmia.</th>\n",
       "      <th>4. Tulevaisuudessa yhä useamman opiskelijan pitäisi siirtyä työelämään pelkällä kandidaatin tutkinnolla.</th>\n",
       "      <th>5. Suomessa on lukumäärällisesti liian monta yliopistoa.</th>\n",
       "      <th>8. Ylioppilaskuntani antaa tarpeeksi osallistumismahdollisuuksia kansainvälisille opiskelijoille.</th>\n",
       "      <th>9. Ylioppilaskunta voi ottaa kantaa muihinkin asioihin kuin suoraan koulutukseen, yliopistoihin ja opintososiaalisiin asioihin (opintotuki, asuminen, yms.) liittyviin kysymyksiin.</th>\n",
       "      <th>10. Ylioppilaskuntien automaatiojäsenyys tulee säilyttää.</th>\n",
       "      <th>12. Ylioppilaskunnan jäsenmaksua tulisi</th>\n",
       "      <th>13. Edustajiston jäsenen tulee noudattaa edustajistoryhmän kantaa merkittävissä kysymyksissä.</th>\n",
       "      <th>14. AYY:n asuntojen vuokria tulisi korottaa, jotta niiden laatua voitaisiin parantaa.</th>\n",
       "      <th>15. AYY:n tulee kannustaa taloudellisin keinoin (yhdistysavustukset) yhdistyksiä kehittämään toimintaansa niin, että yhdistyksessä voi olla mukana, vaikka ei osaisi suomea tai ruotsia.</th>\n",
       "      <th>16. Ylioppilaskunnan tulisi kompensoida EU ja ETA –alueen ulkopuolisten opiskelijoiden lukukausimaksuja lisävuodella asumisaikaan.</th>\n",
       "      <th>18. AYY:n sääntöjen mukaan ylioppilaskunnan hallitukseen on valittava vähintään yksi henkilö tekniikan, kauppatieteiden ja taideteollisen alalta. Mielestäni nämä kiintiöpaikat tulisi poistaa.</th>\n",
       "      <th>20. Ylioppilaskunnan tulisi vastustaa yliopiston jakamia taloudellisia kannustimia suorittaa 55 opintopistettä lukuvuodessa.</th>\n",
       "    </tr>\n",
       "  </thead>\n",
       "  <tbody>\n",
       "    <tr>\n",
       "      <th>0</th>\n",
       "      <td>0.35</td>\n",
       "      <td>0.63</td>\n",
       "      <td>0.38</td>\n",
       "      <td>0.623656</td>\n",
       "      <td>0.75</td>\n",
       "      <td>0.86</td>\n",
       "      <td>0.666667</td>\n",
       "      <td>0.50</td>\n",
       "      <td>0.50</td>\n",
       "      <td>0.75</td>\n",
       "      <td>0.75</td>\n",
       "      <td>0.00</td>\n",
       "      <td>0.50</td>\n",
       "    </tr>\n",
       "    <tr>\n",
       "      <th>2</th>\n",
       "      <td>0.48</td>\n",
       "      <td>1.00</td>\n",
       "      <td>0.35</td>\n",
       "      <td>0.989247</td>\n",
       "      <td>0.04</td>\n",
       "      <td>0.50</td>\n",
       "      <td>0.666667</td>\n",
       "      <td>0.00</td>\n",
       "      <td>0.75</td>\n",
       "      <td>0.75</td>\n",
       "      <td>0.00</td>\n",
       "      <td>0.25</td>\n",
       "      <td>0.00</td>\n",
       "    </tr>\n",
       "    <tr>\n",
       "      <th>3</th>\n",
       "      <td>0.49</td>\n",
       "      <td>0.48</td>\n",
       "      <td>0.65</td>\n",
       "      <td>0.376344</td>\n",
       "      <td>0.23</td>\n",
       "      <td>0.64</td>\n",
       "      <td>0.666667</td>\n",
       "      <td>0.25</td>\n",
       "      <td>0.25</td>\n",
       "      <td>0.50</td>\n",
       "      <td>0.50</td>\n",
       "      <td>0.00</td>\n",
       "      <td>0.50</td>\n",
       "    </tr>\n",
       "    <tr>\n",
       "      <th>6</th>\n",
       "      <td>0.26</td>\n",
       "      <td>0.00</td>\n",
       "      <td>0.00</td>\n",
       "      <td>0.655914</td>\n",
       "      <td>0.80</td>\n",
       "      <td>0.81</td>\n",
       "      <td>0.666667</td>\n",
       "      <td>0.25</td>\n",
       "      <td>0.00</td>\n",
       "      <td>0.25</td>\n",
       "      <td>0.25</td>\n",
       "      <td>0.00</td>\n",
       "      <td>0.25</td>\n",
       "    </tr>\n",
       "    <tr>\n",
       "      <th>7</th>\n",
       "      <td>0.16</td>\n",
       "      <td>0.08</td>\n",
       "      <td>0.35</td>\n",
       "      <td>0.752688</td>\n",
       "      <td>0.88</td>\n",
       "      <td>0.86</td>\n",
       "      <td>0.333333</td>\n",
       "      <td>0.50</td>\n",
       "      <td>0.50</td>\n",
       "      <td>0.75</td>\n",
       "      <td>0.00</td>\n",
       "      <td>0.50</td>\n",
       "      <td>0.50</td>\n",
       "    </tr>\n",
       "  </tbody>\n",
       "</table>\n",
       "</div>"
      ],
      "text/plain": [
       "   3. Yliopistoni tulisi tehdä yhteistyötä alueen korkeakoulujen kanssa lakkauttamalla päällekkäisiä koulutusohjelmia.  \\\n",
       "0                                               0.35                                                                     \n",
       "2                                               0.48                                                                     \n",
       "3                                               0.49                                                                     \n",
       "6                                               0.26                                                                     \n",
       "7                                               0.16                                                                     \n",
       "\n",
       "   4. Tulevaisuudessa yhä useamman opiskelijan pitäisi siirtyä työelämään pelkällä kandidaatin tutkinnolla.  \\\n",
       "0                                               0.63                                                          \n",
       "2                                               1.00                                                          \n",
       "3                                               0.48                                                          \n",
       "6                                               0.00                                                          \n",
       "7                                               0.08                                                          \n",
       "\n",
       "   5. Suomessa on lukumäärällisesti liian monta yliopistoa.  \\\n",
       "0                                               0.38          \n",
       "2                                               0.35          \n",
       "3                                               0.65          \n",
       "6                                               0.00          \n",
       "7                                               0.35          \n",
       "\n",
       "   8. Ylioppilaskuntani antaa tarpeeksi osallistumismahdollisuuksia kansainvälisille opiskelijoille.  \\\n",
       "0                                           0.623656                                                   \n",
       "2                                           0.989247                                                   \n",
       "3                                           0.376344                                                   \n",
       "6                                           0.655914                                                   \n",
       "7                                           0.752688                                                   \n",
       "\n",
       "   9. Ylioppilaskunta voi ottaa kantaa muihinkin asioihin kuin suoraan koulutukseen, yliopistoihin ja opintososiaalisiin asioihin (opintotuki, asuminen, yms.) liittyviin kysymyksiin.  \\\n",
       "0                                               0.75                                                                                                                                     \n",
       "2                                               0.04                                                                                                                                     \n",
       "3                                               0.23                                                                                                                                     \n",
       "6                                               0.80                                                                                                                                     \n",
       "7                                               0.88                                                                                                                                     \n",
       "\n",
       "   10. Ylioppilaskuntien automaatiojäsenyys tulee säilyttää.  \\\n",
       "0                                               0.86           \n",
       "2                                               0.50           \n",
       "3                                               0.64           \n",
       "6                                               0.81           \n",
       "7                                               0.86           \n",
       "\n",
       "   12. Ylioppilaskunnan jäsenmaksua tulisi  \\\n",
       "0                                 0.666667   \n",
       "2                                 0.666667   \n",
       "3                                 0.666667   \n",
       "6                                 0.666667   \n",
       "7                                 0.333333   \n",
       "\n",
       "   13. Edustajiston jäsenen tulee noudattaa edustajistoryhmän kantaa merkittävissä kysymyksissä.   \\\n",
       "0                                               0.50                                                \n",
       "2                                               0.00                                                \n",
       "3                                               0.25                                                \n",
       "6                                               0.25                                                \n",
       "7                                               0.50                                                \n",
       "\n",
       "   14. AYY:n asuntojen vuokria tulisi korottaa, jotta niiden laatua voitaisiin parantaa.   \\\n",
       "0                                               0.50                                        \n",
       "2                                               0.75                                        \n",
       "3                                               0.25                                        \n",
       "6                                               0.00                                        \n",
       "7                                               0.50                                        \n",
       "\n",
       "   15. AYY:n tulee kannustaa taloudellisin keinoin (yhdistysavustukset) yhdistyksiä kehittämään toimintaansa niin, että yhdistyksessä voi olla mukana, vaikka ei osaisi suomea tai ruotsia.   \\\n",
       "0                                               0.75                                                                                                                                           \n",
       "2                                               0.75                                                                                                                                           \n",
       "3                                               0.50                                                                                                                                           \n",
       "6                                               0.25                                                                                                                                           \n",
       "7                                               0.75                                                                                                                                           \n",
       "\n",
       "   16. Ylioppilaskunnan tulisi kompensoida EU ja ETA –alueen ulkopuolisten opiskelijoiden lukukausimaksuja lisävuodella asumisaikaan.  \\\n",
       "0                                               0.75                                                                                    \n",
       "2                                               0.00                                                                                    \n",
       "3                                               0.50                                                                                    \n",
       "6                                               0.25                                                                                    \n",
       "7                                               0.00                                                                                    \n",
       "\n",
       "   18. AYY:n sääntöjen mukaan ylioppilaskunnan hallitukseen on valittava vähintään yksi henkilö tekniikan, kauppatieteiden ja taideteollisen alalta. Mielestäni nämä kiintiöpaikat tulisi poistaa.   \\\n",
       "0                                               0.00                                                                                                                                                  \n",
       "2                                               0.25                                                                                                                                                  \n",
       "3                                               0.00                                                                                                                                                  \n",
       "6                                               0.00                                                                                                                                                  \n",
       "7                                               0.50                                                                                                                                                  \n",
       "\n",
       "   20. Ylioppilaskunnan tulisi vastustaa yliopiston jakamia taloudellisia kannustimia suorittaa 55 opintopistettä lukuvuodessa.  \n",
       "0                                               0.50                                                                             \n",
       "2                                               0.00                                                                             \n",
       "3                                               0.50                                                                             \n",
       "6                                               0.25                                                                             \n",
       "7                                               0.50                                                                             "
      ]
     },
     "execution_count": 7,
     "metadata": {},
     "output_type": "execute_result"
    }
   ],
   "source": [
    "# Scale all values to between 0 and 1\n",
    "from sklearn.preprocessing import MinMaxScaler\n",
    "scaler = MinMaxScaler()\n",
    "scaler.fit(numeric_data)\n",
    "numeric_data[numeric_questions] = scaler.transform(numeric_data)\n",
    "numeric_data.head(5)"
   ]
  },
  {
   "cell_type": "markdown",
   "metadata": {},
   "source": [
    "# Visualize results"
   ]
  },
  {
   "cell_type": "code",
   "execution_count": 8,
   "metadata": {
    "scrolled": false
   },
   "outputs": [
    {
     "name": "stdout",
     "output_type": "stream",
     "text": [
      "3. Yliopistoni tulisi tehdä yhteistyötä alueen korkeakoulujen kanssa lakkauttamalla päällekkäisiä koulutusohjelmia.\n"
     ]
    },
    {
     "data": {
      "image/png": "[encoded data removed]",
      "text/plain": [
       "<matplotlib.figure.Figure at 0x26951fad550>"
      ]
     },
     "metadata": {},
     "output_type": "display_data"
    },
    {
     "name": "stdout",
     "output_type": "stream",
     "text": [
      "4. Tulevaisuudessa yhä useamman opiskelijan pitäisi siirtyä työelämään pelkällä kandidaatin tutkinnolla.\n"
     ]
    },
    {
     "data": {
      "image/png": "[encoded data removed]",
      "text/plain": [
       "<matplotlib.figure.Figure at 0x26951756438>"
      ]
     },
     "metadata": {},
     "output_type": "display_data"
    },
    {
     "name": "stdout",
     "output_type": "stream",
     "text": [
      "5. Suomessa on lukumäärällisesti liian monta yliopistoa.\n"
     ]
    },
    {
     "data": {
      "image/png": "[encoded data removed]",
      "text/plain": [
       "<matplotlib.figure.Figure at 0x26951d89f28>"
      ]
     },
     "metadata": {},
     "output_type": "display_data"
    },
    {
     "name": "stdout",
     "output_type": "stream",
     "text": [
      "8. Ylioppilaskuntani antaa tarpeeksi osallistumismahdollisuuksia kansainvälisille opiskelijoille.\n"
     ]
    },
    {
     "data": {
      "image/png": "[encoded data removed]",
      "text/plain": [
       "<matplotlib.figure.Figure at 0x26953ce78d0>"
      ]
     },
     "metadata": {},
     "output_type": "display_data"
    },
    {
     "name": "stdout",
     "output_type": "stream",
     "text": [
      "9. Ylioppilaskunta voi ottaa kantaa muihinkin asioihin kuin suoraan koulutukseen, yliopistoihin ja opintososiaalisiin asioihin (opintotuki, asuminen, yms.) liittyviin kysymyksiin.\n"
     ]
    },
    {
     "data": {
      "image/png": "[encoded data removed]",
      "text/plain": [
       "<matplotlib.figure.Figure at 0x26953df8b00>"
      ]
     },
     "metadata": {},
     "output_type": "display_data"
    },
    {
     "name": "stdout",
     "output_type": "stream",
     "text": [
      "10. Ylioppilaskuntien automaatiojäsenyys tulee säilyttää.\n"
     ]
    },
    {
     "data": {
      "image/png": "[encoded data removed]",
      "text/plain": [
       "<matplotlib.figure.Figure at 0x26954076a58>"
      ]
     },
     "metadata": {},
     "output_type": "display_data"
    },
    {
     "name": "stdout",
     "output_type": "stream",
     "text": [
      "12. Ylioppilaskunnan jäsenmaksua tulisi\n"
     ]
    },
    {
     "data": {
      "image/png": "[encoded data removed]",
      "text/plain": [
       "<matplotlib.figure.Figure at 0x2695448e588>"
      ]
     },
     "metadata": {},
     "output_type": "display_data"
    },
    {
     "name": "stdout",
     "output_type": "stream",
     "text": [
      "13. Edustajiston jäsenen tulee noudattaa edustajistoryhmän kantaa merkittävissä kysymyksissä. \n"
     ]
    },
    {
     "data": {
      "image/png": "[encoded data removed]",
      "text/plain": [
       "<matplotlib.figure.Figure at 0x269545ca470>"
      ]
     },
     "metadata": {},
     "output_type": "display_data"
    },
    {
     "name": "stdout",
     "output_type": "stream",
     "text": [
      "14. AYY:n asuntojen vuokria tulisi korottaa, jotta niiden laatua voitaisiin parantaa. \n"
     ]
    },
    {
     "data": {
      "image/png": "[encoded data removed]",
      "text/plain": [
       "<matplotlib.figure.Figure at 0x2695454fcf8>"
      ]
     },
     "metadata": {},
     "output_type": "display_data"
    },
    {
     "name": "stdout",
     "output_type": "stream",
     "text": [
      "15. AYY:n tulee kannustaa taloudellisin keinoin (yhdistysavustukset) yhdistyksiä kehittämään toimintaansa niin, että yhdistyksessä voi olla mukana, vaikka ei osaisi suomea tai ruotsia. \n"
     ]
    },
    {
     "data": {
      "image/png": "[encoded data removed]",
      "text/plain": [
       "<matplotlib.figure.Figure at 0x2695459cef0>"
      ]
     },
     "metadata": {},
     "output_type": "display_data"
    },
    {
     "name": "stdout",
     "output_type": "stream",
     "text": [
      "16. Ylioppilaskunnan tulisi kompensoida EU ja ETA –alueen ulkopuolisten opiskelijoiden lukukausimaksuja lisävuodella asumisaikaan.\n"
     ]
    },
    {
     "data": {
      "image/png": "[encoded data removed]",
      "text/plain": [
       "<matplotlib.figure.Figure at 0x269544eb4a8>"
      ]
     },
     "metadata": {},
     "output_type": "display_data"
    },
    {
     "name": "stdout",
     "output_type": "stream",
     "text": [
      "18. AYY:n sääntöjen mukaan ylioppilaskunnan hallitukseen on valittava vähintään yksi henkilö tekniikan, kauppatieteiden ja taideteollisen alalta. Mielestäni nämä kiintiöpaikat tulisi poistaa. \n"
     ]
    },
    {
     "data": {
      "image/png": "[encoded data removed]",
      "text/plain": [
       "<matplotlib.figure.Figure at 0x26954582668>"
      ]
     },
     "metadata": {},
     "output_type": "display_data"
    },
    {
     "name": "stdout",
     "output_type": "stream",
     "text": [
      "20. Ylioppilaskunnan tulisi vastustaa yliopiston jakamia taloudellisia kannustimia suorittaa 55 opintopistettä lukuvuodessa.\n"
     ]
    },
    {
     "data": {
      "image/png": "[encoded data removed]",
      "text/plain": [
       "<matplotlib.figure.Figure at 0x26953db8668>"
      ]
     },
     "metadata": {},
     "output_type": "display_data"
    }
   ],
   "source": [
    "for question in numeric_questions:\n",
    "    numeric_data[question].hist()\n",
    "    print(question)\n",
    "    plt.show()"
   ]
  },
  {
   "cell_type": "code",
   "execution_count": 9,
   "metadata": {},
   "outputs": [
    {
     "data": {
      "text/plain": [
       "<matplotlib.colorbar.Colorbar at 0x2695451a518>"
      ]
     },
     "execution_count": 9,
     "metadata": {},
     "output_type": "execute_result"
    },
    {
     "data": {
      "image/png": "[encoded data removed]",
      "text/plain": [
       "<matplotlib.figure.Figure at 0x26953d2f978>"
      ]
     },
     "metadata": {},
     "output_type": "display_data"
    }
   ],
   "source": [
    "plt.imshow(numeric_data.corr())\n",
    "plt.colorbar()"
   ]
  },
  {
   "cell_type": "markdown",
   "metadata": {},
   "source": [
    "# Factor Analytics"
   ]
  },
  {
   "cell_type": "code",
   "execution_count": 10,
   "metadata": {},
   "outputs": [
    {
     "data": {
      "text/plain": [
       "FactorAnalysis(copy=True, iterated_power=3, max_iter=1000, n_components=2,\n",
       "        noise_variance_init=None, random_state=0, svd_method='randomized',\n",
       "        tol=0.01)"
      ]
     },
     "execution_count": 10,
     "metadata": {},
     "output_type": "execute_result"
    }
   ],
   "source": [
    "from sklearn.decomposition import FactorAnalysis\n",
    "model = FactorAnalysis(n_components=2)\n",
    "model.fit(numeric_data)\n",
    "\n",
    "# L, T = fr.rotate_factors(model.components_,'quartimax')\n",
    "# model.components_ = L\n",
    "# model.components_ = varimax(model.components_)\n",
    "\n",
    "# R = ortho_rotation(model.components_, method='quartimax', itermax=1000)\n",
    "# model.components_ = model.components_.dot(R)"
   ]
  },
  {
   "cell_type": "code",
   "execution_count": 11,
   "metadata": {},
   "outputs": [
    {
     "data": {
      "image/png": "[encoded data removed]",
      "text/plain": [
       "<matplotlib.figure.Figure at 0x269545fdf60>"
      ]
     },
     "metadata": {},
     "output_type": "display_data"
    }
   ],
   "source": [
    "def show_candidate(name):\n",
    "    cand_index = candidates['Name'].str.contains(name).argmax()\n",
    "    plt.figure(figsize=(15,10))\n",
    "    result = model.transform(numeric_data)\n",
    "    plt.scatter(result[cand_index,0],result[cand_index,1],color='r')\n",
    "    plt.scatter(result[:,0],result[:,1])\n",
    "    plt.scatter(result[cand_index,0],result[cand_index,1],color='r')\n",
    "    plt.legend([candidates['Name'][cand_index]])\n",
    "show_candidate(\"Hautam\")"
   ]
  },
  {
   "cell_type": "code",
   "execution_count": 14,
   "metadata": {
    "scrolled": false
   },
   "outputs": [
    {
     "data": {
      "text/plain": [
       "<matplotlib.legend.Legend at 0x26954583160>"
      ]
     },
     "execution_count": 14,
     "metadata": {},
     "output_type": "execute_result"
    },
    {
     "data": {
      "image/png": "[encoded data removed]",
      "text/plain": [
       "<matplotlib.figure.Figure at 0x269545832b0>"
      ]
     },
     "metadata": {},
     "output_type": "display_data"
    }
   ],
   "source": [
    "parties = candidates['vaaliliitto'].unique()\n",
    "parties = np.delete(parties,1)\n",
    "parties = parties[parties != np.nan]\n",
    "plt.figure(figsize=(15,10))\n",
    "for party in parties:\n",
    "    # print(party)\n",
    "    party_filter = candidates['vaaliliitto'][filt] == party\n",
    "    # print(candidates['Name'][filt][party_filter])\n",
    "    try:\n",
    "        result = model.transform(numeric_data[party_filter])\n",
    "        plt.scatter(result[:,0],result[:,1])\n",
    "    except:\n",
    "        print(\"Could not find candidates for\", party)\n",
    "plt.legend(parties)"
   ]
  },
  {
   "cell_type": "code",
   "execution_count": 15,
   "metadata": {},
   "outputs": [
    {
     "name": "stdout",
     "output_type": "stream",
     "text": [
      "Tärkeimmät kysymykset akselin X oikealla reunalla\n",
      "ERI MIELTÄ 10. Ylioppilaskuntien automaatiojäsenyys tulee säilyttää.\n",
      "ERI MIELTÄ 9. Ylioppilaskunta voi ottaa kantaa muihinkin asioihin kuin suoraan koulutukseen, yliopistoihin ja opintososiaalisiin asioihin (opintotuki, asuminen, yms.) liittyviin kysymyksiin.\n",
      "SAMAA MIELTÄ 5. Suomessa on lukumäärällisesti liian monta yliopistoa.\n",
      "SAMAA MIELTÄ 4. Tulevaisuudessa yhä useamman opiskelijan pitäisi siirtyä työelämään pelkällä kandidaatin tutkinnolla.\n",
      "ERI MIELTÄ 20. Ylioppilaskunnan tulisi vastustaa yliopiston jakamia taloudellisia kannustimia suorittaa 55 opintopistettä lukuvuodessa.\n",
      "\n",
      "Tärkeimmät kysymykset akselin Y yläreunassa\n",
      "ERI MIELTÄ 9. Ylioppilaskunta voi ottaa kantaa muihinkin asioihin kuin suoraan koulutukseen, yliopistoihin ja opintososiaalisiin asioihin (opintotuki, asuminen, yms.) liittyviin kysymyksiin.\n",
      "ERI MIELTÄ 15. AYY:n tulee kannustaa taloudellisin keinoin (yhdistysavustukset) yhdistyksiä kehittämään toimintaansa niin, että yhdistyksessä voi olla mukana, vaikka ei osaisi suomea tai ruotsia. \n",
      "ERI MIELTÄ 3. Yliopistoni tulisi tehdä yhteistyötä alueen korkeakoulujen kanssa lakkauttamalla päällekkäisiä koulutusohjelmia.\n",
      "SAMAA MIELTÄ 20. Ylioppilaskunnan tulisi vastustaa yliopiston jakamia taloudellisia kannustimia suorittaa 55 opintopistettä lukuvuodessa.\n",
      "ERI MIELTÄ 16. Ylioppilaskunnan tulisi kompensoida EU ja ETA –alueen ulkopuolisten opiskelijoiden lukukausimaksuja lisävuodella asumisaikaan.\n",
      "\n"
     ]
    }
   ],
   "source": [
    "top_n = 5\n",
    "\n",
    "for axis, a in enumerate(['X oikealla reunalla', 'Y yläreunassa']):\n",
    "    print(\"Tärkeimmät kysymykset akselin\", a)\n",
    "    for index in np.abs(model.components_[axis,:]).argsort()[-top_n:][::-1]:\n",
    "        if model.components_[axis,index] > 0:\n",
    "            effect = \"SAMAA MIELTÄ\"\n",
    "        else:\n",
    "            effect = \"ERI MIELTÄ\"\n",
    "        print(effect, numeric_questions[index])\n",
    "    print()"
   ]
  },
  {
   "cell_type": "code",
   "execution_count": 16,
   "metadata": {},
   "outputs": [
    {
     "data": {
      "text/plain": [
       "<matplotlib.legend.Legend at 0x269548b4390>"
      ]
     },
     "execution_count": 16,
     "metadata": {},
     "output_type": "execute_result"
    },
    {
     "data": {
      "image/png": "[encoded data removed]",
      "text/plain": [
       "<matplotlib.figure.Figure at 0x26953eb4198>"
      ]
     },
     "metadata": {},
     "output_type": "display_data"
    }
   ],
   "source": [
    "plt.bar(np.arange(len(numeric_questions)), model.components_[0,:], 0.35)\n",
    "plt.bar(np.arange(len(numeric_questions)) + 0.35, model.components_[1,:], 0.35)\n",
    "plt.legend(['x-akseli', 'y-akseli'])"
   ]
  },
  {
   "cell_type": "code",
   "execution_count": null,
   "metadata": {
    "collapsed": true
   },
   "outputs": [],
   "source": []
  }
 ],
 "metadata": {
  "kernelspec": {
   "display_name": "Python 3",
   "language": "python",
   "name": "python3"
  },
  "language_info": {
   "codemirror_mode": {
    "name": "ipython",
    "version": 3
   },
   "file_extension": ".py",
   "mimetype": "text/x-python",
   "name": "python",
   "nbconvert_exporter": "python",
   "pygments_lexer": "ipython3",
   "version": "3.6.1"
  }
 },
 "nbformat": 4,
 "nbformat_minor": 2
}
