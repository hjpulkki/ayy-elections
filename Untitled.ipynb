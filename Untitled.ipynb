{
 "cells": [
  {
   "cell_type": "code",
   "execution_count": 6,
   "metadata": {
    "scrolled": false
   },
   "outputs": [
    {
     "name": "stdout",
     "output_type": "stream",
     "text": [
      "ett&auml; Suomessa tulisi olla huomattavasti nykyist&auml; v&auml;hemm&auml;\"n yliopistoja laadukkaan tutkimuksen takaamiseksi.\"\"\n",
      "Ylioppilaskunnan ei tulisi tehdä kehitysyhteistyötä\"\"\n",
      "\"\n",
      "\"\n",
      "Jäsenmaksun yhteydessä kerättävän vapaaehtoisen kehitysyhteistyömaksun\"\"\n",
      "Jäsenmaksun yhteydessä kerättävän vapaaehtoisen kehitysyhteistyömaksun\";\"Osallistumista yliopistojen korkeakouluyhteistyöhön kehittyvien maiden korkeakoulujen kanssa\"\"\n",
      "1\"\"\n",
      "Ylioppilaskunnan ei tulisi tehdä kehitysyhteistyötä\"\"\n",
      "\"\n"
     ]
    }
   ],
   "source": [
    "import pandas as pd\n",
    "import matplotlib.pyplot as plt\n",
    "import numpy as np\n",
    "import csv\n",
    "\n",
    "%matplotlib inline\n",
    "\n",
    "file1 = \"Answers data - 2017-10-27T07_25_37.csv\"\n",
    "file2  = \"Candidate data - 2017-10-27T07_25_36.csv\"\n",
    "\n",
    "\n",
    "\n",
    "\n",
    "\n",
    "i = 0\n",
    "with open(file1, 'r',  encoding=\"utf8\") as file:\n",
    "    for row in csv.reader(file,quotechar='\"', delimiter=',',quoting=csv.QUOTE_ALL, skipinitialspace=True):\n",
    "        i += 1\n",
    "        if i == 10:\n",
    "            break\n",
    "        print(row[15])"
   ]
  },
  {
   "cell_type": "code",
   "execution_count": 21,
   "metadata": {},
   "outputs": [
    {
     "name": "stdout",
     "output_type": "stream",
     "text": [
      "2128\n",
      "250\n"
     ]
    }
   ],
   "source": [
    "with open(file2, 'r', encoding=\"utf8\") as myfile:\n",
    "    data=myfile.read()\n",
    "    \n",
    "'''\n",
    "for i in range(3):\n",
    "    print(data.split('\\n')[i])\n",
    "'''\n",
    "\n",
    "import re\n",
    "data_2 = data.replace(\";;;;;;\\n\",\"%20\")\n",
    "\n",
    "print(len(data.split(\"\\n\")))\n",
    "print(len(data_2.split(\"\\n\")))\n",
    "\n"
   ]
  },
  {
   "cell_type": "code",
   "execution_count": 26,
   "metadata": {},
   "outputs": [
    {
     "name": "stdout",
     "output_type": "stream",
     "text": [
      "\"\"aloitusvuosi\"\"\n",
      "\"\"\"\"\n",
      "\"\"4\"\"\n",
      "\"\"2014\"\"\n",
      "\"\"\"\"\n",
      "\"\"2014\"\"\n",
      " on siihen oltava täysi oikeus. \"\"\n",
      "\"\"2017\"\"\n",
      "\"\"2014\"\"\n",
      "\"\"\"\"\n",
      " on kaikilla mahdollisuus kansainvälistyä ja poistetaan turhaa resurssien päälleikkäisyyttä (esim. printtimateriaaleissa ja muussa informaation välityksessä)\"\"\n",
      "\"\"2017\"\"\n",
      "\"\"2014\"\"\n",
      "\"\"\"\"\n",
      "\"\"Rahan tarjoaminen kannustimena yli 55 opintopisteen suorittamisesta on väärä tapa motivoida opiskelijoita. Tällä systeemillä motivoimme opiskelijoita menemään sieltä\n",
      "\"\"Osallistumista ylioppilaskuntien yhteiselle kehitysyhteistyöviikolle\";\"Osallistumista yliopistojen korkeakouluyhteistyöhön kehittyvien maiden korkeakoulujen kanssa\"\"\n",
      "\"\"\"\"\n",
      " niin järjestää kuin osallistua. Ne ovat tärkeä osa opiskelijakulttuuria Aallossa.;%20;%20//;%20;%20Providing apartments for students is one of the most important roles of AYY. Housing situation is horrible in the Helsinki area and the rent level is too high. Students need cheap apartments.;%20Advocacy is important. If student unions don’t do advocacy\n",
      "\"\"2017\"\"\n",
      "\"\"\"\"\n"
     ]
    }
   ],
   "source": [
    "for i in range(20):\n",
    "    row = data_2.split('\\n')[i]\n",
    "    print(row.split(\",\")[5])"
   ]
  },
  {
   "cell_type": "code",
   "execution_count": null,
   "metadata": {
    "collapsed": true
   },
   "outputs": [],
   "source": []
  }
 ],
 "metadata": {
  "kernelspec": {
   "display_name": "Python 3",
   "language": "python",
   "name": "python3"
  },
  "language_info": {
   "codemirror_mode": {
    "name": "ipython",
    "version": 3
   },
   "file_extension": ".py",
   "mimetype": "text/x-python",
   "name": "python",
   "nbconvert_exporter": "python",
   "pygments_lexer": "ipython3",
   "version": "3.6.1"
  }
 },
 "nbformat": 4,
 "nbformat_minor": 2
}
